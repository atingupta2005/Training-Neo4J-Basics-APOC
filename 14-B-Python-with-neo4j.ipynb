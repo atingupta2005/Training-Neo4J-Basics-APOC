{
 "cells": [
  {
   "cell_type": "markdown",
   "metadata": {},
   "source": [
    "## Neo4j Python Driver\n",
    "- The Neo4j Python driver is officially supported by Neo4j and connects to the database using the binary protocol\n",
    "- It aims to be minimal, while being idiomatic to Python."
   ]
  },
  {
   "cell_type": "code",
   "execution_count": 11,
   "metadata": {},
   "outputs": [],
   "source": [
    "from neo4j import GraphDatabase"
   ]
  },
  {
   "cell_type": "code",
   "execution_count": 17,
   "metadata": {},
   "outputs": [],
   "source": [
    "uri = \"neo4j://vmneo4j.eastus2.cloudapp.azure.com:7687\"\n",
    "driver = GraphDatabase.driver(uri, auth=(\"neo4j\", \"Neo4j@123456\"))\n",
    "\n",
    "def create_friend_of(tx, name, friend):\n",
    "    tx.run(\"MERGE (:Person {name: $name})\", name=name)\n",
    "    \n",
    "    tx.run(\"MATCH (a:Person) WHERE a.name = $name \"\n",
    "           \"CREATE (a)-[:KNOWS]->(:Person {name: $friend})\",\n",
    "           name=name, friend=friend)\n"
   ]
  },
  {
   "cell_type": "code",
   "execution_count": 18,
   "metadata": {},
   "outputs": [],
   "source": [
    "with driver.session(database=\"atindb\") as session:\n",
    "    session.write_transaction(create_friend_of, \"Alice\", \"Bob\")\n"
   ]
  },
  {
   "cell_type": "code",
   "execution_count": 19,
   "metadata": {},
   "outputs": [],
   "source": [
    "with driver.session(database=\"atindb\") as session:\n",
    "    session.write_transaction(create_friend_of, \"Alice\", \"Carl\")"
   ]
  },
  {
   "cell_type": "code",
   "execution_count": 20,
   "metadata": {},
   "outputs": [],
   "source": [
    "def get_friends_of(tx, name):\n",
    "    friends = []\n",
    "    result = tx.run(\"MATCH (a:Person)-[:KNOWS]->(f) \"\n",
    "                         \"WHERE a.name = $name \" \n",
    "                         \"RETURN f.name AS friend\", name=name)\n",
    "    for record in result:\n",
    "        friends.append(record[\"friend\"])\n",
    "    return friends"
   ]
  },
  {
   "cell_type": "code",
   "execution_count": 16,
   "metadata": {},
   "outputs": [
    {
     "name": "stdout",
     "output_type": "stream",
     "text": [
      "Carl\n",
      "Bob\n"
     ]
    }
   ],
   "source": [
    "with driver.session(database=\"atindb\") as session:\n",
    "    friends = session.read_transaction(get_friends_of, \"Alice\")\n",
    "    for friend in friends:\n",
    "        print(friend)"
   ]
  },
  {
   "cell_type": "code",
   "execution_count": null,
   "metadata": {},
   "outputs": [],
   "source": [
    "driver.close()"
   ]
  },
  {
   "cell_type": "markdown",
   "metadata": {},
   "source": [
    "## py2neo Driver"
   ]
  },
  {
   "cell_type": "code",
   "execution_count": 6,
   "metadata": {},
   "outputs": [],
   "source": [
    "from py2neo import Graph\n",
    "\n",
    "graph = Graph(\"bolt://vmneo4j.eastus2.cloudapp.azure.com:7687\", auth=(\"neo4j\", \"Neo4j@123456\"), name=\"atindb\")"
   ]
  },
  {
   "cell_type": "code",
   "execution_count": 7,
   "metadata": {},
   "outputs": [],
   "source": [
    "graph.delete_all()"
   ]
  },
  {
   "cell_type": "code",
   "execution_count": 8,
   "metadata": {},
   "outputs": [],
   "source": [
    "from py2neo import Node\n",
    "\n",
    "nicole = Node(\"Person\", name=\"Nicole\", age=24)\n",
    "drew = Node(\"Person\", name=\"Drew\", age=20)\n",
    "\n",
    "mtdew = Node(\"Drink\", name=\"Mountain Dew\", calories=9000)\n",
    "cokezero = Node(\"Drink\", name=\"Coke Zero\", calories=0)\n",
    "\n",
    "coke = Node(\"Manufacturer\", name=\"Coca Cola\")\n",
    "pepsi = Node(\"Manufacturer\", name=\"Pepsi\")\n",
    "\n",
    "graph.create(nicole | drew | mtdew | cokezero | coke | pepsi)"
   ]
  },
  {
   "cell_type": "code",
   "execution_count": 32,
   "metadata": {},
   "outputs": [],
   "source": [
    "# Visit\n",
    "# http://vmneo4j.eastus2.cloudapp.azure.com:7474/browser/\n",
    "# Run Cypher Query:\n",
    "# - match(n) RETURN n\n",
    "    "
   ]
  },
  {
   "cell_type": "code",
   "execution_count": 9,
   "metadata": {},
   "outputs": [],
   "source": [
    "from py2neo import Relationship\n",
    "\n",
    "graph.create(Relationship(nicole, \"LIKES\", cokezero))\n",
    "graph.create(Relationship(nicole, \"LIKES\", mtdew))\n",
    "graph.create(Relationship(drew, \"LIKES\", mtdew))\n",
    "graph.create(Relationship(coke, \"MAKES\", cokezero))\n",
    "graph.create(Relationship(pepsi, \"MAKES\", mtdew))\n"
   ]
  },
  {
   "cell_type": "code",
   "execution_count": 34,
   "metadata": {},
   "outputs": [],
   "source": [
    "# match(n) RETURN n\n"
   ]
  },
  {
   "cell_type": "code",
   "execution_count": 10,
   "metadata": {},
   "outputs": [
    {
     "name": "stdout",
     "output_type": "stream",
     "text": [
      "'Drew'\t'Mountain Dew'\n",
      "'Nicole'\t'Mountain Dew'\n",
      "'Nicole'\t'Coke Zero'\n"
     ]
    }
   ],
   "source": [
    "query = \"\"\"\n",
    "MATCH (person:Person)-[:LIKES]->(drink:Drink)\n",
    "RETURN person.name AS name, drink.name AS drink\n",
    "\"\"\"\n",
    "\n",
    "data = graph.run(query)\n",
    "\n",
    "for d in data:\n",
    "    print(d)"
   ]
  },
  {
   "cell_type": "markdown",
   "metadata": {},
   "source": [
    "## Import CSV"
   ]
  },
  {
   "cell_type": "code",
   "execution_count": 21,
   "metadata": {},
   "outputs": [
    {
     "data": {
      "text/html": [
       "<div>\n",
       "<style scoped>\n",
       "    .dataframe tbody tr th:only-of-type {\n",
       "        vertical-align: middle;\n",
       "    }\n",
       "\n",
       "    .dataframe tbody tr th {\n",
       "        vertical-align: top;\n",
       "    }\n",
       "\n",
       "    .dataframe thead th {\n",
       "        text-align: right;\n",
       "    }\n",
       "</style>\n",
       "<table border=\"1\" class=\"dataframe\">\n",
       "  <thead>\n",
       "    <tr style=\"text-align: right;\">\n",
       "      <th></th>\n",
       "      <th>RACE_ID</th>\n",
       "      <th>RACE_NAME</th>\n",
       "      <th>RACE_YEAR</th>\n",
       "      <th>RACE_FROM</th>\n",
       "      <th>RACE_TO</th>\n",
       "      <th>RACE_DISTANCE</th>\n",
       "      <th>RACE_NUMBER_OF_STAGES</th>\n",
       "      <th>RACE_EDITION</th>\n",
       "      <th>RACE_WEBSITE</th>\n",
       "      <th>TEAM_ID</th>\n",
       "      <th>TEAM_NAME</th>\n",
       "      <th>TEAM_COUNTRY</th>\n",
       "      <th>TEAM_MANAGERS</th>\n",
       "      <th>RIDER_NUMBER</th>\n",
       "      <th>RIDER_NAME</th>\n",
       "      <th>RIDER_COUNTRY</th>\n",
       "      <th>RIDER_INFO</th>\n",
       "    </tr>\n",
       "  </thead>\n",
       "  <tbody>\n",
       "    <tr>\n",
       "      <th>0</th>\n",
       "      <td>1</td>\n",
       "      <td>TOUR DE FRANCE</td>\n",
       "      <td>2014</td>\n",
       "      <td>05/07/2014</td>\n",
       "      <td>27/07/2014</td>\n",
       "      <td>3663.5</td>\n",
       "      <td>21</td>\n",
       "      <td>101</td>\n",
       "      <td>http://www.letour.com/le-tour/2014/us/</td>\n",
       "      <td>1</td>\n",
       "      <td>TEAM SKY</td>\n",
       "      <td>GBR</td>\n",
       "      <td>PORTAL Nicolas, KNAVEN Servais</td>\n",
       "      <td>1</td>\n",
       "      <td>FROOME Christopher</td>\n",
       "      <td>GBR</td>\n",
       "      <td>http://www.letour.com/le-tour/2014/us/riders/t...</td>\n",
       "    </tr>\n",
       "    <tr>\n",
       "      <th>1</th>\n",
       "      <td>1</td>\n",
       "      <td>TOUR DE FRANCE</td>\n",
       "      <td>2014</td>\n",
       "      <td>05/07/2014</td>\n",
       "      <td>27/07/2014</td>\n",
       "      <td>3663.5</td>\n",
       "      <td>21</td>\n",
       "      <td>101</td>\n",
       "      <td>http://www.letour.com/le-tour/2014/us/</td>\n",
       "      <td>1</td>\n",
       "      <td>TEAM SKY</td>\n",
       "      <td>GBR</td>\n",
       "      <td>PORTAL Nicolas, KNAVEN Servais</td>\n",
       "      <td>2</td>\n",
       "      <td>EISEL Bernhard</td>\n",
       "      <td>AUT</td>\n",
       "      <td>http://www.letour.com/le-tour/2014/us/riders/t...</td>\n",
       "    </tr>\n",
       "    <tr>\n",
       "      <th>2</th>\n",
       "      <td>1</td>\n",
       "      <td>TOUR DE FRANCE</td>\n",
       "      <td>2014</td>\n",
       "      <td>05/07/2014</td>\n",
       "      <td>27/07/2014</td>\n",
       "      <td>3663.5</td>\n",
       "      <td>21</td>\n",
       "      <td>101</td>\n",
       "      <td>http://www.letour.com/le-tour/2014/us/</td>\n",
       "      <td>1</td>\n",
       "      <td>TEAM SKY</td>\n",
       "      <td>GBR</td>\n",
       "      <td>PORTAL Nicolas, KNAVEN Servais</td>\n",
       "      <td>3</td>\n",
       "      <td>KIRYIENKA Vasili</td>\n",
       "      <td>BLR</td>\n",
       "      <td>http://www.letour.com/le-tour/2014/us/riders/t...</td>\n",
       "    </tr>\n",
       "  </tbody>\n",
       "</table>\n",
       "</div>"
      ],
      "text/plain": [
       "   RACE_ID       RACE_NAME  RACE_YEAR   RACE_FROM     RACE_TO  RACE_DISTANCE  \\\n",
       "0        1  TOUR DE FRANCE       2014  05/07/2014  27/07/2014         3663.5   \n",
       "1        1  TOUR DE FRANCE       2014  05/07/2014  27/07/2014         3663.5   \n",
       "2        1  TOUR DE FRANCE       2014  05/07/2014  27/07/2014         3663.5   \n",
       "\n",
       "   RACE_NUMBER_OF_STAGES  RACE_EDITION  \\\n",
       "0                     21           101   \n",
       "1                     21           101   \n",
       "2                     21           101   \n",
       "\n",
       "                             RACE_WEBSITE  TEAM_ID TEAM_NAME TEAM_COUNTRY  \\\n",
       "0  http://www.letour.com/le-tour/2014/us/        1  TEAM SKY         GBR    \n",
       "1  http://www.letour.com/le-tour/2014/us/        1  TEAM SKY         GBR    \n",
       "2  http://www.letour.com/le-tour/2014/us/        1  TEAM SKY         GBR    \n",
       "\n",
       "                    TEAM_MANAGERS  RIDER_NUMBER          RIDER_NAME  \\\n",
       "0  PORTAL Nicolas, KNAVEN Servais             1  FROOME Christopher   \n",
       "1  PORTAL Nicolas, KNAVEN Servais             2      EISEL Bernhard   \n",
       "2  PORTAL Nicolas, KNAVEN Servais             3    KIRYIENKA Vasili   \n",
       "\n",
       "  RIDER_COUNTRY                                         RIDER_INFO  \n",
       "0           GBR  http://www.letour.com/le-tour/2014/us/riders/t...  \n",
       "1           AUT  http://www.letour.com/le-tour/2014/us/riders/t...  \n",
       "2           BLR  http://www.letour.com/le-tour/2014/us/riders/t...  "
      ]
     },
     "execution_count": 21,
     "metadata": {},
     "output_type": "execute_result"
    }
   ],
   "source": [
    "import pandas as pd \n",
    "\n",
    "data_rider = pd.read_csv('https://raw.githubusercontent.com/inserpio/tour-de-france-2014/master/tour-de-france-2014-0001-teams-and-riders.csv')\n",
    "data_rider.head(3)"
   ]
  },
  {
   "cell_type": "code",
   "execution_count": 22,
   "metadata": {},
   "outputs": [
    {
     "data": {
      "text/plain": [
       "['RACE_ID',\n",
       " 'RACE_NAME',\n",
       " 'RACE_YEAR',\n",
       " 'RACE_FROM',\n",
       " 'RACE_TO',\n",
       " 'RACE_DISTANCE',\n",
       " 'RACE_NUMBER_OF_STAGES',\n",
       " 'RACE_EDITION',\n",
       " 'RACE_WEBSITE',\n",
       " 'TEAM_ID',\n",
       " 'TEAM_NAME',\n",
       " 'TEAM_COUNTRY',\n",
       " 'TEAM_MANAGERS',\n",
       " 'RIDER_NUMBER',\n",
       " 'RIDER_NAME',\n",
       " 'RIDER_COUNTRY',\n",
       " 'RIDER_INFO']"
      ]
     },
     "execution_count": 22,
     "metadata": {},
     "output_type": "execute_result"
    }
   ],
   "source": [
    "list(data_rider)"
   ]
  },
  {
   "cell_type": "code",
   "execution_count": 26,
   "metadata": {},
   "outputs": [],
   "source": [
    "query_rider = \"\"\"\n",
    "LOAD CSV WITH HEADERS FROM \"https://raw.githubusercontent.com/inserpio/tour-de-france-2014/master/tour-de-france-2014-0001-teams-and-riders.csv\" AS csvLine\n",
    "MERGE (r:Race { id: toInteger(csvLine.RACE_ID), name: csvLine.RACE_NAME, from: csvLine.RACE_FROM, to: csvLine.RACE_TO, edition: csvLine.RACE_EDITION, distance: csvLine.RACE_DISTANCE, number_of_stages: csvLine.RACE_NUMBER_OF_STAGES, website: csvLine.RACE_WEBSITE })\n",
    "MERGE (t:Team { id: toInteger(csvLine.TEAM_ID), name: csvLine.TEAM_NAME, country: csvLine.TEAM_COUNTRY, sportingDirectors: csvLine.TEAM_MANAGERS }) \n",
    "MERGE (p:Rider { name: csvLine.RIDER_NAME, country: csvLine.RIDER_COUNTRY })\n",
    "CREATE (t)-[:TAKES_PART_IN]->(r)<-[:TAKES_PART_IN { number: toInteger(csvLine.RIDER_NUMBER), info: csvLine.RIDER_INFO }]-(p), (p)-[:RIDES_FOR { year: toInteger(csvLine.RACE_YEAR) }]->(t);\n",
    "\"\"\""
   ]
  },
  {
   "cell_type": "code",
   "execution_count": 27,
   "metadata": {},
   "outputs": [
    {
     "data": {
      "text/html": [
       "(No data)"
      ],
      "text/plain": [
       "(No data)"
      ]
     },
     "execution_count": 27,
     "metadata": {},
     "output_type": "execute_result"
    }
   ],
   "source": [
    "graph.run(query_rider)"
   ]
  }
 ],
 "metadata": {
  "kernelspec": {
   "display_name": "Python 3",
   "language": "python",
   "name": "python3"
  },
  "language_info": {
   "codemirror_mode": {
    "name": "ipython",
    "version": 3
   },
   "file_extension": ".py",
   "mimetype": "text/x-python",
   "name": "python",
   "nbconvert_exporter": "python",
   "pygments_lexer": "ipython3",
   "version": "3.8.3"
  }
 },
 "nbformat": 4,
 "nbformat_minor": 4
}
